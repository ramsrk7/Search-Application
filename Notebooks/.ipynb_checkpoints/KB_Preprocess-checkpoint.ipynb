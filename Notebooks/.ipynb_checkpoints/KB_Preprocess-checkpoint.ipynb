{
 "cells": [
  {
   "cell_type": "code",
   "execution_count": 1,
   "id": "38a79004",
   "metadata": {},
   "outputs": [
    {
     "name": "stdout",
     "output_type": "stream",
     "text": [
      "Collecting PyPDF2\n",
      "  Downloading PyPDF2-2.11.1-py3-none-any.whl (220 kB)\n",
      "\u001b[2K     \u001b[90m━━━━━━━━━━━━━━━━━━━━━━━━━━━━━━━━━━━━━\u001b[0m \u001b[32m220.4/220.4 kB\u001b[0m \u001b[31m736.1 kB/s\u001b[0m eta \u001b[36m0:00:00\u001b[0m00:01\u001b[0m00:01\u001b[0m\n",
      "\u001b[?25hCollecting typing-extensions>=3.10.0.0\n",
      "  Downloading typing_extensions-4.4.0-py3-none-any.whl (26 kB)\n",
      "Installing collected packages: typing-extensions, PyPDF2\n",
      "  Attempting uninstall: typing-extensions\n",
      "    Found existing installation: typing-extensions 3.7.4.3\n",
      "    Uninstalling typing-extensions-3.7.4.3:\n",
      "      Successfully uninstalled typing-extensions-3.7.4.3\n",
      "\u001b[31mERROR: pip's dependency resolver does not currently take into account all the packages that are installed. This behaviour is the source of the following dependency conflicts.\n",
      "tensorflow 2.4.1 requires grpcio~=1.32.0, but you have grpcio 1.42.0 which is incompatible.\n",
      "tensorflow 2.4.1 requires numpy~=1.19.2, but you have numpy 1.23.3 which is incompatible.\n",
      "tensorflow 2.4.1 requires typing-extensions~=3.7.4, but you have typing-extensions 4.4.0 which is incompatible.\n",
      "tensorflow-text 2.6.0 requires tensorflow<2.7,>=2.6.0, but you have tensorflow 2.4.1 which is incompatible.\n",
      "rasa 3.0.0 requires google-auth<3.0.0,>=2.3.3, but you have google-auth 1.35.0 which is incompatible.\n",
      "rasa 3.0.0 requires numpy<1.20.0,>=1.19.2, but you have numpy 1.23.3 which is incompatible.\n",
      "rasa 3.0.0 requires ruamel.yaml<0.17.0,>=0.16.5, but you have ruamel-yaml 0.15.87 which is incompatible.\n",
      "rasa 3.0.0 requires tensorflow<2.6.2,>=2.6, but you have tensorflow 2.4.1 which is incompatible.\n",
      "rasa 3.0.0 requires tensorflow-estimator<2.7,>=2.6, but you have tensorflow-estimator 2.4.0 which is incompatible.\n",
      "rasa 3.0.0 requires typing-extensions<4.0.0,>=3.7.4, but you have typing-extensions 4.4.0 which is incompatible.\n",
      "rasa-sdk 3.0.0 requires typing-extensions<4.0.0,>=3.7.4, but you have typing-extensions 4.4.0 which is incompatible.\n",
      "rasa-core 0.8.6 requires fbmessenger<5.0.0, but you have fbmessenger 6.0.0 which is incompatible.\n",
      "rasa-core 0.8.6 requires pykwalify<=1.6.0, but you have pykwalify 1.8.0 which is incompatible.\u001b[0m\u001b[31m\n",
      "\u001b[0mSuccessfully installed PyPDF2-2.11.1 typing-extensions-4.4.0\n"
     ]
    }
   ],
   "source": [
    "!pip install PyPDF2"
   ]
  },
  {
   "cell_type": "code",
   "execution_count": 1,
   "id": "da5a6f66",
   "metadata": {},
   "outputs": [],
   "source": [
    "import PyPDF2\n",
    "import glob\n",
    "from tqdm import tqdm\n",
    "from datetime import datetime\n",
    "import warnings\n",
    "import os\n",
    "warnings.filterwarnings(\"ignore\", category=FutureWarning)\n",
    "\n",
    "\n",
    "class PreprocessFiles:\n",
    "    \n",
    "    def __init__(self,path,out=\"\"):\n",
    "        if path == \"\":\n",
    "            print(\"No input path.\")\n",
    "            return \n",
    "        else:\n",
    "            self.files = glob.glob(path)\n",
    "            self.out = out\n",
    "            #self.convert()\n",
    "        \n",
    "    \n",
    "    def conv_func(self, path, out):\n",
    "\n",
    "        \n",
    "        pdffileobj=open(path,'rb')\n",
    "        pdfreader=PyPDF2.PdfFileReader(pdffileobj)\n",
    "        x=pdfreader.numPages\n",
    "\n",
    "        text = \"\"\n",
    "        for i in range(x):\n",
    "            pageobj=pdfreader.getPage(i)\n",
    "            text+=pageobj.extractText()\n",
    "\n",
    "        out_file=open(out,\"a\")\n",
    "        out_file.writelines(text)\n",
    "        \n",
    "    def getMetaData(self):\n",
    "        \n",
    "        l = []\n",
    "        for f in self.files:\n",
    "            mtime = datetime.fromtimestamp(os.path.getmtime(f)).strftime('%Y-%m-%d %H:%M:%S')\n",
    "            ctime = datetime.fromtimestamp(os.path.getctime(f)).strftime('%Y-%m-%d %H:%M:%S')\n",
    "            size = os.path.getsize(f)\n",
    "            name = f\n",
    "            \n",
    "            \n",
    "            d = {'path':name, 'mtime': mtime, 'ctime':ctime, 'size':size/1000}\n",
    "            l.append(d)\n",
    "        return l\n",
    "            \n",
    "    \n",
    "    def convertToPDF(self):\n",
    "\n",
    "        for f in tqdm(self.files):\n",
    "            self.conv_func(f,self.out+f.replace(\".pdf\",\".txt\"))\n",
    "        \n",
    "    "
   ]
  },
  {
   "cell_type": "code",
   "execution_count": 2,
   "id": "90079c5f",
   "metadata": {},
   "outputs": [],
   "source": [
    "preprocessing = PreprocessFiles(\"*.pdf\",\"Text/\")"
   ]
  },
  {
   "cell_type": "code",
   "execution_count": 3,
   "id": "7df971f9",
   "metadata": {},
   "outputs": [
    {
     "name": "stderr",
     "output_type": "stream",
     "text": [
      "0it [00:00, ?it/s]\n"
     ]
    }
   ],
   "source": [
    "preprocessing.convertToPDF()"
   ]
  },
  {
   "cell_type": "code",
   "execution_count": 4,
   "id": "d953adee",
   "metadata": {},
   "outputs": [
    {
     "data": {
      "text/plain": [
       "[]"
      ]
     },
     "execution_count": 4,
     "metadata": {},
     "output_type": "execute_result"
    }
   ],
   "source": [
    "metadata = preprocessing.getMetaData()\n",
    "metadata"
   ]
  },
  {
   "cell_type": "code",
   "execution_count": 5,
   "id": "8a27c913",
   "metadata": {},
   "outputs": [
    {
     "name": "stderr",
     "output_type": "stream",
     "text": [
      "/Users/ram/opt/anaconda3/lib/python3.8/site-packages/pandas/core/computation/expressions.py:20: UserWarning: Pandas requires version '2.7.3' or newer of 'numexpr' (version '2.7.1' currently installed).\n",
      "  from pandas.core.computation.check import NUMEXPR_INSTALLED\n"
     ]
    },
    {
     "data": {
      "text/html": [
       "<div>\n",
       "<style scoped>\n",
       "    .dataframe tbody tr th:only-of-type {\n",
       "        vertical-align: middle;\n",
       "    }\n",
       "\n",
       "    .dataframe tbody tr th {\n",
       "        vertical-align: top;\n",
       "    }\n",
       "\n",
       "    .dataframe thead th {\n",
       "        text-align: right;\n",
       "    }\n",
       "</style>\n",
       "<table border=\"1\" class=\"dataframe\">\n",
       "  <thead>\n",
       "    <tr style=\"text-align: right;\">\n",
       "      <th></th>\n",
       "      <th>txt_size</th>\n",
       "    </tr>\n",
       "  </thead>\n",
       "  <tbody>\n",
       "    <tr>\n",
       "      <th>0</th>\n",
       "      <td>3</td>\n",
       "    </tr>\n",
       "    <tr>\n",
       "      <th>1</th>\n",
       "      <td>351</td>\n",
       "    </tr>\n",
       "    <tr>\n",
       "      <th>2</th>\n",
       "      <td>76</td>\n",
       "    </tr>\n",
       "    <tr>\n",
       "      <th>3</th>\n",
       "      <td>53</td>\n",
       "    </tr>\n",
       "    <tr>\n",
       "      <th>4</th>\n",
       "      <td>136</td>\n",
       "    </tr>\n",
       "    <tr>\n",
       "      <th>5</th>\n",
       "      <td>5</td>\n",
       "    </tr>\n",
       "    <tr>\n",
       "      <th>6</th>\n",
       "      <td>144</td>\n",
       "    </tr>\n",
       "    <tr>\n",
       "      <th>7</th>\n",
       "      <td>72</td>\n",
       "    </tr>\n",
       "    <tr>\n",
       "      <th>8</th>\n",
       "      <td>183</td>\n",
       "    </tr>\n",
       "    <tr>\n",
       "      <th>9</th>\n",
       "      <td>311</td>\n",
       "    </tr>\n",
       "    <tr>\n",
       "      <th>10</th>\n",
       "      <td>4</td>\n",
       "    </tr>\n",
       "    <tr>\n",
       "      <th>11</th>\n",
       "      <td>129</td>\n",
       "    </tr>\n",
       "    <tr>\n",
       "      <th>12</th>\n",
       "      <td>78</td>\n",
       "    </tr>\n",
       "  </tbody>\n",
       "</table>\n",
       "</div>"
      ],
      "text/plain": [
       "    txt_size\n",
       "0          3\n",
       "1        351\n",
       "2         76\n",
       "3         53\n",
       "4        136\n",
       "5          5\n",
       "6        144\n",
       "7         72\n",
       "8        183\n",
       "9        311\n",
       "10         4\n",
       "11       129\n",
       "12        78"
      ]
     },
     "execution_count": 5,
     "metadata": {},
     "output_type": "execute_result"
    }
   ],
   "source": [
    "import pandas as pd\n",
    "\n",
    "df = pd.DataFrame(metadata)\n",
    "df['txt_size'] = [3,351,76,53,136,5,144,72, 183, 311, 4, 129, 78]\n",
    "df"
   ]
  },
  {
   "cell_type": "code",
   "execution_count": 32,
   "id": "26827f9a",
   "metadata": {},
   "outputs": [],
   "source": [
    "df.to_csv(\"Metadata.csv\")"
   ]
  },
  {
   "cell_type": "code",
   "execution_count": null,
   "id": "2a02491b",
   "metadata": {},
   "outputs": [],
   "source": []
  }
 ],
 "metadata": {
  "kernelspec": {
   "display_name": "Python 3",
   "language": "python",
   "name": "python3"
  },
  "language_info": {
   "codemirror_mode": {
    "name": "ipython",
    "version": 3
   },
   "file_extension": ".py",
   "mimetype": "text/x-python",
   "name": "python",
   "nbconvert_exporter": "python",
   "pygments_lexer": "ipython3",
   "version": "3.8.3"
  }
 },
 "nbformat": 4,
 "nbformat_minor": 5
}
