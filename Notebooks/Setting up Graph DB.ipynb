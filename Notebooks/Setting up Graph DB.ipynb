{
 "cells": [
  {
   "cell_type": "markdown",
   "id": "ef15000d",
   "metadata": {},
   "source": [
    "https://github.com/stellasia/nodes2022\n",
    "    \n",
    "https://www.youtube.com/watch?v=DKziks5jQvc&ab_channel=Neo4j"
   ]
  },
  {
   "cell_type": "code",
   "execution_count": 1,
   "id": "30acaa6b",
   "metadata": {},
   "outputs": [],
   "source": [
    "\n",
    "\n",
    "from typing import Optional\n",
    "\n",
    "\n",
    "class Movie:\n",
    "    def __init__(self, title: str, released: Optional[int] = None):\n",
    "        self.title = title\n",
    "        self.released = released\n",
    "\n",
    "\n",
    "def build_create_movie_query(movie: Movie):\n",
    "    query = \"CREATE (node:Movie) SET node.title=$title, node.released=$released\"\n",
    "    params = {\n",
    "        \"title\": movie.title,\n",
    "        \"released\": movie.released\n",
    "    }\n",
    "    return query, params"
   ]
  },
  {
   "cell_type": "code",
   "execution_count": 11,
   "id": "1d8c9460",
   "metadata": {},
   "outputs": [],
   "source": [
    "import pytest\n",
    "\n",
    "def test_movie_object():\n",
    "    m = Movie(title=\"The Matrix\")\n",
    "    assert m.title == \"The Matrix\"\n",
    "    assert m.released is None\n",
    "\n",
    "\n",
    "\n",
    "def movie():\n",
    "    return Movie(title=\"NODES\", released=2022)\n",
    "\n",
    "\n",
    "def test_movie_create_query(movie):\n",
    "    q, p = build_create_movie_query(movie)\n",
    "    assert q == \"CREATE (node:Movie) SET node.title=$title, node.released=$released\"\n",
    "    assert p == {\"title\": movie.title, \"released\": movie.released}"
   ]
  },
  {
   "cell_type": "code",
   "execution_count": 12,
   "id": "ef8c8e35",
   "metadata": {},
   "outputs": [],
   "source": [
    "test_movie_object()"
   ]
  },
  {
   "cell_type": "code",
   "execution_count": 13,
   "id": "e91f0c3f",
   "metadata": {},
   "outputs": [],
   "source": [
    "a = movie()"
   ]
  },
  {
   "cell_type": "code",
   "execution_count": 15,
   "id": "d9554d03",
   "metadata": {},
   "outputs": [
    {
     "data": {
      "text/plain": [
       "2022"
      ]
     },
     "execution_count": 15,
     "metadata": {},
     "output_type": "execute_result"
    }
   ],
   "source": [
    "a.released"
   ]
  },
  {
   "cell_type": "markdown",
   "id": "0ecc2685",
   "metadata": {},
   "source": [
    "## Pilot\n",
    "\n",
    "\n",
    "Node File: \n",
    "* Name\n",
    "* Date Created\n",
    "* Date Modified\n",
    "* Format\n",
    "\n",
    "Node Keyword:\n",
    "\n",
    "* Name\n",
    "\n",
    "Relationship:\n",
    "\n",
    "* PER\n",
    "* LOC\n",
    "* ORG\n",
    "* MIS\n",
    "\n",
    "Check if a node exists:\n",
    "* If yes, update.\n",
    "* Else Create. \n",
    "\n",
    "Syntax: Create:\n",
    "\n",
    "CREATE (a {name: 'Andy'})\n",
    "RETURN a.name\n",
    "\n",
    "CREATE (n:Person {name: 'Andy', title: 'Developer'})\n",
    "\n",
    "Syntax Delete:\n",
    "MATCH (m:Person {name: 'Mark'})\n",
    "DETACH DELETE m\n"
   ]
  },
  {
   "cell_type": "code",
   "execution_count": 2,
   "id": "26498a7c",
   "metadata": {},
   "outputs": [],
   "source": [
    "\n",
    "\n",
    "\n",
    "graph = Graph(uri, auth=(user, password))\n"
   ]
  },
  {
   "cell_type": "code",
   "execution_count": 21,
   "id": "4ee21b39",
   "metadata": {},
   "outputs": [
    {
     "data": {
      "text/html": [
       "(No data)"
      ],
      "text/plain": [
       "(No data)"
      ]
     },
     "execution_count": 21,
     "metadata": {},
     "output_type": "execute_result"
    }
   ],
   "source": [
    "graph.run(query.create(\"Files\",file_node.getProperties()))\n"
   ]
  },
  {
   "cell_type": "code",
   "execution_count": 24,
   "id": "b0c16131",
   "metadata": {},
   "outputs": [
    {
     "data": {
      "text/html": [
       "(No data)"
      ],
      "text/plain": [
       "(No data)"
      ]
     },
     "execution_count": 24,
     "metadata": {},
     "output_type": "execute_result"
    }
   ],
   "source": [
    "graph.run(query.create(\"Keywords\",entity_node.getProperties()))"
   ]
  },
  {
   "cell_type": "code",
   "execution_count": 32,
   "id": "0c86303a",
   "metadata": {},
   "outputs": [
    {
     "data": {
      "text/html": [
       "(No data)"
      ],
      "text/plain": [
       "(No data)"
      ]
     },
     "execution_count": 32,
     "metadata": {},
     "output_type": "execute_result"
    }
   ],
   "source": [
    "graph.run(query.connect_nodes(file_node, entity_node, entity_node.getRelationship()))"
   ]
  },
  {
   "cell_type": "code",
   "execution_count": 18,
   "id": "65f7b596",
   "metadata": {},
   "outputs": [
    {
     "data": {
      "text/plain": [
       "\"MATCH (m:Files {name:'Ram',date_created:'123',date_modified:'456',file_format:'pdf'}) DETACH DELETE m\""
      ]
     },
     "execution_count": 18,
     "metadata": {},
     "output_type": "execute_result"
    }
   ],
   "source": [
    "query.delete(\"Files\",file_node.getProperties())"
   ]
  },
  {
   "cell_type": "code",
   "execution_count": 20,
   "id": "2a63500b",
   "metadata": {},
   "outputs": [
    {
     "data": {
      "text/html": [
       "(No data)"
      ],
      "text/plain": [
       "(No data)"
      ]
     },
     "execution_count": 20,
     "metadata": {},
     "output_type": "execute_result"
    }
   ],
   "source": [
    "graph.run(query.delete(\"Files\",file_node.getProperties()))"
   ]
  },
  {
   "cell_type": "code",
   "execution_count": 33,
   "id": "b2502d1e",
   "metadata": {},
   "outputs": [
    {
     "ename": "AttributeError",
     "evalue": "'Graph' object has no attribute 'close'",
     "output_type": "error",
     "traceback": [
      "\u001b[0;31m---------------------------------------------------------------------------\u001b[0m",
      "\u001b[0;31mAttributeError\u001b[0m                            Traceback (most recent call last)",
      "\u001b[0;32m<ipython-input-33-bde6891024c9>\u001b[0m in \u001b[0;36m<module>\u001b[0;34m\u001b[0m\n\u001b[0;32m----> 1\u001b[0;31m \u001b[0mgraph\u001b[0m\u001b[0;34m.\u001b[0m\u001b[0mclose\u001b[0m\u001b[0;34m(\u001b[0m\u001b[0;34m)\u001b[0m\u001b[0;34m\u001b[0m\u001b[0;34m\u001b[0m\u001b[0m\n\u001b[0m",
      "\u001b[0;31mAttributeError\u001b[0m: 'Graph' object has no attribute 'close'"
     ]
    }
   ],
   "source": [
    "graph.close()"
   ]
  },
  {
   "cell_type": "code",
   "execution_count": 15,
   "id": "045eabc1",
   "metadata": {},
   "outputs": [],
   "source": [
    "from py2neo import Graph\n",
    "\n",
    "\n",
    "class Neo4jConnection:\n",
    "    \n",
    "    '''\n",
    "    Get BOLT URL, username, pwd\n",
    "    Create Session.\n",
    "    Run queries through session.\n",
    "    '''\n",
    "    \n",
    "    def __init__(self):\n",
    "        self.uri = \"bolt://localhost:7687\"\n",
    "        self.user = \"neo4j\"\n",
    "        self.password = \"neo4jneo4j\"\n",
    "        self.graph = None\n",
    "        \n",
    "    def connect(self):\n",
    "        \n",
    "        self.graph = Graph(self.uri, auth=(self.user, self.password))\n",
    "        return self.graph\n",
    "    \n",
    "    def run(self, query):\n",
    "        \n",
    "        try:\n",
    "            return self.graph.run(query)\n",
    "        except:\n",
    "            print(\"Invalid Query!\")\n",
    "            return -1\n",
    "        \n",
    "         \n",
    "        "
   ]
  },
  {
   "cell_type": "code",
   "execution_count": 5,
   "id": "96f099ad",
   "metadata": {},
   "outputs": [],
   "source": [
    "class Helper:\n",
    "    \n",
    "    def formatProperties(self, properties):\n",
    "        \n",
    "        query = \"{\"\n",
    "        \n",
    "        for key,val in properties.items():      \n",
    "            query += key\n",
    "            query += \":'\"\n",
    "            query += val + \"',\"\n",
    "        query = query[:-1] + \"}\"\n",
    "        \n",
    "        return query\n",
    "            \n",
    "Help = Helper() "
   ]
  },
  {
   "cell_type": "code",
   "execution_count": 26,
   "id": "720b0f12",
   "metadata": {},
   "outputs": [],
   "source": [
    "class File:\n",
    "    \n",
    "    def __init__(self, name: str, date_created, date_modified, file_format):\n",
    "        \n",
    "        self.properties = {}\n",
    "        self.properties['name'] = name\n",
    "        self.properties['date_created'] = date_created\n",
    "        self.properties['date_modified'] = date_modified\n",
    "        self.properties['file_format'] = file_format\n",
    "        self.type = \"Files\"\n",
    "        \n",
    "    def getProperties(self):\n",
    "        \n",
    "        return Help.formatProperties(self.properties)\n",
    "        \n",
    "        \n",
    "class Keyword:\n",
    "    \n",
    "    def __init__(self, name, relationship):\n",
    "        \n",
    "        self.properties = {}\n",
    "        self.properties['name'] = name\n",
    "        self.relationship = relationship\n",
    "        self.type = 'Keywords'\n",
    "        \n",
    "    def getProperties(self):\n",
    "        return Help.formatProperties(self.properties)\n",
    "    \n",
    "    def getRelationship(self):\n",
    "        return self.relationship\n",
    "        \n",
    "\n",
    "        "
   ]
  },
  {
   "cell_type": "code",
   "execution_count": 27,
   "id": "3c7b40a9",
   "metadata": {},
   "outputs": [],
   "source": [
    "class Nodes:\n",
    "    \n",
    "    def __init__(self, conn):\n",
    "        self.conn = conn\n",
    "\n",
    "    def delete(self, node: str, properties: str):\n",
    "        \n",
    "        query = \"MATCH (m:\" + node + \" \" + properties + \") DETACH DELETE m\"\n",
    "        return query\n",
    "\n",
    "    def create(self, node: str, properties: str):\n",
    "        \n",
    "        query = \"CREATE (n:\" + node + \" \" + properties + \")\"\n",
    "        return query\n",
    "    \n",
    "    def update(self, node: str, properties: str):\n",
    "        \n",
    "        return self.delete(node, properties) + \" \" + self.create(node, properties)\n",
    "\n",
    "    def check(self, node: str, properties: str):\n",
    "        return \n",
    "    \n",
    "    def connect_nodes(self, node1, node2, relationship):\n",
    "        \n",
    "        query = \"MATCH (n1:\" + node1.type + node1.getProperties() + \"),\"\n",
    "        query += \"(n2:\" + node2.type + node2.getProperties() + \") \"\n",
    "        query += \"CREATE (n1) - [:\" + relationship + \"] -> (n2)\"\n",
    "    \n",
    "        return query\n",
    "        \n",
    "        "
   ]
  },
  {
   "cell_type": "code",
   "execution_count": 28,
   "id": "cced1825",
   "metadata": {},
   "outputs": [],
   "source": [
    "query = Nodes(\"conn\")"
   ]
  },
  {
   "cell_type": "code",
   "execution_count": 9,
   "id": "47188dad",
   "metadata": {},
   "outputs": [
    {
     "data": {
      "text/plain": [
       "\"MATCH (m:Files {name: 'Ram'}) DETACH DELETE m CREATE (n:Files {name: 'Ram'})\""
      ]
     },
     "execution_count": 9,
     "metadata": {},
     "output_type": "execute_result"
    }
   ],
   "source": [
    "query.update(\"Files\",\"{name: 'Ram'}\")"
   ]
  },
  {
   "cell_type": "code",
   "execution_count": 30,
   "id": "e555f46d",
   "metadata": {},
   "outputs": [],
   "source": [
    "file_node = File(\"Ram\", \"123\",\"456\",\"pdf\")\n",
    "entity_node = Keyword(\"Chennai\",\"LOC\")"
   ]
  },
  {
   "cell_type": "code",
   "execution_count": 11,
   "id": "98586497",
   "metadata": {},
   "outputs": [
    {
     "data": {
      "text/plain": [
       "\"{name:'Ram',date_created:'123',date_modified:'456',file_format:'pdf'}\""
      ]
     },
     "execution_count": 11,
     "metadata": {},
     "output_type": "execute_result"
    }
   ],
   "source": [
    "file_node.getProperties()"
   ]
  },
  {
   "cell_type": "code",
   "execution_count": 13,
   "id": "ced2473a",
   "metadata": {},
   "outputs": [
    {
     "data": {
      "text/plain": [
       "\"CREATE (n:Files {name:'Ram',date_created:'123',date_modified:'456',file_format:'pdf'})\""
      ]
     },
     "execution_count": 13,
     "metadata": {},
     "output_type": "execute_result"
    }
   ],
   "source": [
    "query.create(\"Files\",file_node.getProperties())"
   ]
  },
  {
   "cell_type": "code",
   "execution_count": 22,
   "id": "2b49eb4a",
   "metadata": {},
   "outputs": [
    {
     "data": {
      "text/plain": [
       "\"CREATE (n:Keywords {name:'Chennai'})\""
      ]
     },
     "execution_count": 22,
     "metadata": {},
     "output_type": "execute_result"
    }
   ],
   "source": [
    "query.create(\"Keywords\",entity_node.getProperties())"
   ]
  },
  {
   "cell_type": "code",
   "execution_count": 102,
   "id": "31257166",
   "metadata": {},
   "outputs": [
    {
     "data": {
      "text/plain": [
       "\"MATCH (m:Files {name:'Ram',date_created:'123',date_modified:'456',file_format:'pdf'}) DETACH DELETE m\""
      ]
     },
     "execution_count": 102,
     "metadata": {},
     "output_type": "execute_result"
    }
   ],
   "source": [
    "query.delete(\"Files\",file_node.getProperties())"
   ]
  },
  {
   "cell_type": "code",
   "execution_count": 103,
   "id": "b1c42d38",
   "metadata": {},
   "outputs": [
    {
     "data": {
      "text/plain": [
       "\"MATCH (m:Files {name:'Ram',date_created:'123',date_modified:'456',file_format:'pdf'}) DETACH DELETE m CREATE (n:Files {name:'Ram',date_created:'123',date_modified:'456',file_format:'pdf'})\""
      ]
     },
     "execution_count": 103,
     "metadata": {},
     "output_type": "execute_result"
    }
   ],
   "source": [
    "query.update(\"Files\",file_node.getProperties())"
   ]
  },
  {
   "cell_type": "code",
   "execution_count": 31,
   "id": "21f93803",
   "metadata": {},
   "outputs": [
    {
     "data": {
      "text/plain": [
       "\"MATCH (n1:Files{name:'Ram',date_created:'123',date_modified:'456',file_format:'pdf'}),(n2:Keywords{name:'Chennai'}) CREATE (n1) - [:LOC] -> (n2)\""
      ]
     },
     "execution_count": 31,
     "metadata": {},
     "output_type": "execute_result"
    }
   ],
   "source": [
    "query.connect_nodes(file_node, entity_node, entity_node.getRelationship())"
   ]
  },
  {
   "cell_type": "code",
   "execution_count": null,
   "id": "23b50c01",
   "metadata": {},
   "outputs": [],
   "source": []
  }
 ],
 "metadata": {
  "kernelspec": {
   "display_name": "Python 3",
   "language": "python",
   "name": "python3"
  },
  "language_info": {
   "codemirror_mode": {
    "name": "ipython",
    "version": 3
   },
   "file_extension": ".py",
   "mimetype": "text/x-python",
   "name": "python",
   "nbconvert_exporter": "python",
   "pygments_lexer": "ipython3",
   "version": "3.8.3"
  }
 },
 "nbformat": 4,
 "nbformat_minor": 5
}
