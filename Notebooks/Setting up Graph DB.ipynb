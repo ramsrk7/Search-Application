{
 "cells": [
  {
   "cell_type": "markdown",
   "id": "c671602b",
   "metadata": {},
   "source": [
    "https://github.com/stellasia/nodes2022\n",
    "    \n",
    "https://www.youtube.com/watch?v=DKziks5jQvc&ab_channel=Neo4j"
   ]
  },
  {
   "cell_type": "code",
   "execution_count": 1,
   "id": "1ca9ad28",
   "metadata": {},
   "outputs": [],
   "source": [
    "\n",
    "\n",
    "from typing import Optional\n",
    "\n",
    "\n",
    "class Movie:\n",
    "    def __init__(self, title: str, released: Optional[int] = None):\n",
    "        self.title = title\n",
    "        self.released = released\n",
    "\n",
    "\n",
    "def build_create_movie_query(movie: Movie):\n",
    "    query = \"CREATE (node:Movie) SET node.title=$title, node.released=$released\"\n",
    "    params = {\n",
    "        \"title\": movie.title,\n",
    "        \"released\": movie.released\n",
    "    }\n",
    "    return query, params"
   ]
  },
  {
   "cell_type": "code",
   "execution_count": 11,
   "id": "12874f3a",
   "metadata": {},
   "outputs": [],
   "source": [
    "import pytest\n",
    "\n",
    "def test_movie_object():\n",
    "    m = Movie(title=\"The Matrix\")\n",
    "    assert m.title == \"The Matrix\"\n",
    "    assert m.released is None\n",
    "\n",
    "\n",
    "\n",
    "def movie():\n",
    "    return Movie(title=\"NODES\", released=2022)\n",
    "\n",
    "\n",
    "def test_movie_create_query(movie):\n",
    "    q, p = build_create_movie_query(movie)\n",
    "    assert q == \"CREATE (node:Movie) SET node.title=$title, node.released=$released\"\n",
    "    assert p == {\"title\": movie.title, \"released\": movie.released}"
   ]
  },
  {
   "cell_type": "code",
   "execution_count": 12,
   "id": "b33f768d",
   "metadata": {},
   "outputs": [],
   "source": [
    "test_movie_object()"
   ]
  },
  {
   "cell_type": "code",
   "execution_count": 13,
   "id": "7eda056b",
   "metadata": {},
   "outputs": [],
   "source": [
    "a = movie()"
   ]
  },
  {
   "cell_type": "code",
   "execution_count": 15,
   "id": "0bf77cd7",
   "metadata": {},
   "outputs": [
    {
     "data": {
      "text/plain": [
       "2022"
      ]
     },
     "execution_count": 15,
     "metadata": {},
     "output_type": "execute_result"
    }
   ],
   "source": [
    "a.released"
   ]
  },
  {
   "cell_type": "markdown",
   "id": "5e64cf8f",
   "metadata": {},
   "source": [
    "## Pilot\n",
    "\n",
    "\n",
    "Node File: \n",
    "* Name\n",
    "* Date Created\n",
    "* Date Modified\n",
    "* Format\n",
    "\n",
    "Node Keyword:\n",
    "\n",
    "* Name\n",
    "\n",
    "Relationship:\n",
    "\n",
    "* PER\n",
    "* LOC\n",
    "* ORG\n",
    "* MIS\n",
    "\n",
    "Check if a node exists:\n",
    "* If yes, update.\n",
    "* Else Create. \n",
    "\n",
    "Syntax: Create:\n",
    "\n",
    "CREATE (a {name: 'Andy'})\n",
    "RETURN a.name\n",
    "\n",
    "CREATE (n:Person {name: 'Andy', title: 'Developer'})\n",
    "\n",
    "Syntax Delete:\n",
    "MATCH (m:Person {name: 'Mark'})\n",
    "DETACH DELETE m\n"
   ]
  },
  {
   "cell_type": "code",
   "execution_count": 13,
   "id": "2fb67362",
   "metadata": {},
   "outputs": [],
   "source": [
    "class Helper:\n",
    "    \n",
    "    def formatProperties(self, properties):\n",
    "        \n",
    "        query = \"{\"\n",
    "        \n",
    "        for key,val in properties.items():      \n",
    "            query += key\n",
    "            query += \":'\"\n",
    "            query += val + \"',\"\n",
    "        query = query[:-1] + \"}\"\n",
    "        \n",
    "        return query\n",
    "            \n",
    "Help = Helper() "
   ]
  },
  {
   "cell_type": "code",
   "execution_count": 154,
   "id": "bbe4eece",
   "metadata": {},
   "outputs": [],
   "source": [
    "class File:\n",
    "    \n",
    "    def __init__(self, name: str, date_created, date_modified, file_format):\n",
    "        \n",
    "        self.properties = {}\n",
    "        self.properties['name'] = name\n",
    "        self.properties['date_created'] = date_created\n",
    "        self.properties['date_modified'] = date_modified\n",
    "        self.properties['file_format'] = file_format\n",
    "        self.type = \"Files\"\n",
    "        \n",
    "    def getProperties(self):\n",
    "        \n",
    "        return Help.formatProperties(self.properties)\n",
    "        \n",
    "        \n",
    "class Keyword:\n",
    "    \n",
    "    def __init__(self, name, prop):\n",
    "        \n",
    "        self.properties = {}\n",
    "        self.properties['name'] = name\n",
    "        self.properties['property'] = prop\n",
    "        self.type = 'Keywords'\n",
    "        \n",
    "    def getProperties(self):\n",
    "        return Help.formatProperties(self.properties)\n",
    "    \n",
    "    def getRelationship(self):\n",
    "        return self.relationship\n",
    "        \n",
    "\n",
    "        "
   ]
  },
  {
   "cell_type": "code",
   "execution_count": 83,
   "id": "31ed646a",
   "metadata": {},
   "outputs": [],
   "source": [
    "class QueryGenerator:\n",
    "    \n",
    "    def __init__(self, conn = \"\"):\n",
    "        self.conn = conn\n",
    "\n",
    "    def delete(self, node: str, properties: str):\n",
    "        \n",
    "        query = \"MATCH (m:\" + node + \" \" + properties + \") DETACH DELETE m\"\n",
    "        return query\n",
    "\n",
    "    def create(self, node: str, properties: str):\n",
    "        \n",
    "        query = \"CREATE (n:\" + node + \" \" + properties + \")\"\n",
    "        return query\n",
    "    \n",
    "    def update(self, node: str, properties: str):\n",
    "        \n",
    "        return self.delete(node, properties) + \" \" + self.create(node, properties)\n",
    "\n",
    "    def check(self, node: str, properties: str):\n",
    "        return \n",
    "    \n",
    "    def connect_nodes(self, node1, node2, relationship):\n",
    "        \n",
    "        query = \"MATCH (n1:\" + node1.type + node1.getProperties() + \"),\"\n",
    "        query += \"(n2:\" + node2.type + node2.getProperties() + \") \"\n",
    "        query += \"CREATE (n1) - [:\" + relationship + \"] -> (n2)\"\n",
    "    \n",
    "        return query\n",
    "    \n",
    "    def relationship_exists(self, node1, node2, relationship):\n",
    "        \n",
    "        query = \"RETURN EXISTS( (:\"+ node1.type + \"{ name: '\"+ node1.properties['name'] + \"'})-[:\"+ relationship + \"]-\"\n",
    "        query += \"(: \" + node2.type + \"{name: '\" + node2.properties['name'] +\"'}) )\"\n",
    "        \n",
    "        return query\n",
    "        \n",
    "        "
   ]
  },
  {
   "cell_type": "code",
   "execution_count": 136,
   "id": "175e3772",
   "metadata": {},
   "outputs": [],
   "source": [
    "from py2neo import Graph\n",
    "\n",
    "\n",
    "class Neo4jConnection:\n",
    "    \n",
    "    '''\n",
    "    Get BOLT URL, username, pwd\n",
    "    Create Session.\n",
    "    Run queries through session.\n",
    "    '''\n",
    "    \n",
    "    def __init__(self):\n",
    "        self.uri = \"bolt://localhost:7687\"\n",
    "        self.user = \"neo4j\"\n",
    "        self.password = \"neo4jneo4j\"\n",
    "        self.graph = None\n",
    "        self.queryGenerator = QueryGenerator()\n",
    "        \n",
    "    def connect(self):\n",
    "        \n",
    "        self.graph = Graph(self.uri, auth=(self.user, self.password))\n",
    "        return self.graph\n",
    "        \n",
    "    \n",
    "    def run(self, node1, func=None, node2=None, relationship=None):\n",
    "        \n",
    "        \n",
    "        query = \"\"\n",
    "        \n",
    "        if func == \"CREATE\":\n",
    "            \n",
    "            if self.exists(node1):\n",
    "                print(\"Node Exists. Cannot create nodes with redundant names.\")\n",
    "                return -1\n",
    "            \n",
    "            query = self.queryGenerator.create(node1.type, node1.getProperties())\n",
    "            \n",
    "      \n",
    "        elif func == \"DELETE\":\n",
    "            \n",
    "            if self.exists(node1) == False:\n",
    "                print(\"Node doesn't exist\")\n",
    "                return -1\n",
    "            \n",
    "            query = self.queryGenerator.delete(node1.type, node1.getProperties())\n",
    "            \n",
    "        elif func == \"UPDATE\":\n",
    "            pass\n",
    "            \n",
    "        elif func == \"LINK\":\n",
    "            \n",
    "            if node2 == None:\n",
    "                print(\"Node2 Argument Missing\")\n",
    "                return -1\n",
    "            if self.exists(node1) == False:\n",
    "                print(\"Create Node 1\")\n",
    "                return -1\n",
    "            if self.exists(node2) == False:\n",
    "                print(\"Create Node 2\")\n",
    "                return -1\n",
    "            if relationship == None:\n",
    "                print(\"Add relationship\")\n",
    "                return -1\n",
    "             \n",
    "            if graphConn.graph.run(self.queryGenerator.relationship_exists(node1, node2, relationship)).evaluate():\n",
    "                print(\"Relationship exists\")\n",
    "                return -1\n",
    "                \n",
    "            query = self.queryGenerator.connect_nodes(node1, node2, relationship)\n",
    "            \n",
    "        else:\n",
    "            \n",
    "            print(\"Unknown Function. Choose one of the following: [CREATE, DELETE, UPDATE, LINK]\")\n",
    "            return -1\n",
    "            \n",
    "        \n",
    "        try:\n",
    "            return self.graph.run(query)\n",
    "        except:\n",
    "            print(\"Query ERROR!\")\n",
    "            return -1\n",
    "    \n",
    "    def exists(self, node):\n",
    "        \n",
    "        count = self.graph.nodes.match(node.type, name=node.properties['name']).first()\n",
    "        \n",
    "        return False if count == None else True\n",
    "        \n",
    "         \n",
    "        "
   ]
  },
  {
   "cell_type": "code",
   "execution_count": null,
   "id": "f3e41d80",
   "metadata": {},
   "outputs": [],
   "source": [
    "file_node = File(\"Ram\", \"123\",\"456\",\"pdf\")\n",
    "entity_node = Keyword(\"Chennai\",\"Location\")\n",
    "entity_node2 = Keyword(\"San Jose\",\"Location\")"
   ]
  },
  {
   "cell_type": "code",
   "execution_count": 156,
   "id": "c23e3c11",
   "metadata": {},
   "outputs": [
    {
     "data": {
      "text/plain": [
       "\"{name:'Ram',date_created:'123',date_modified:'456',file_format:'pdf'}\""
      ]
     },
     "execution_count": 156,
     "metadata": {},
     "output_type": "execute_result"
    }
   ],
   "source": [
    "file_node.getProperties()"
   ]
  },
  {
   "cell_type": "code",
   "execution_count": 157,
   "id": "9e5c3830",
   "metadata": {},
   "outputs": [
    {
     "data": {
      "text/plain": [
       "\"{name:'Chennai',property:'Location'}\""
      ]
     },
     "execution_count": 157,
     "metadata": {},
     "output_type": "execute_result"
    }
   ],
   "source": [
    "entity_node.getProperties()"
   ]
  },
  {
   "cell_type": "code",
   "execution_count": 158,
   "id": "95d8f4b0",
   "metadata": {},
   "outputs": [],
   "source": [
    "graphConn = Neo4jConnection()"
   ]
  },
  {
   "cell_type": "code",
   "execution_count": 159,
   "id": "09cb99d0",
   "metadata": {},
   "outputs": [
    {
     "data": {
      "text/plain": [
       "Graph('bolt://localhost:7687')"
      ]
     },
     "execution_count": 159,
     "metadata": {},
     "output_type": "execute_result"
    }
   ],
   "source": [
    "graphConn.connect()"
   ]
  },
  {
   "cell_type": "code",
   "execution_count": 160,
   "id": "85cc73e4",
   "metadata": {},
   "outputs": [
    {
     "data": {
      "text/plain": [
       "\"{name:'Chennai',property:'Location'}\""
      ]
     },
     "execution_count": 160,
     "metadata": {},
     "output_type": "execute_result"
    }
   ],
   "source": [
    "entity_node.getProperties()\n"
   ]
  },
  {
   "cell_type": "code",
   "execution_count": 161,
   "id": "16de66e8",
   "metadata": {},
   "outputs": [],
   "source": [
    "graphConn.run(file_node, \"CREATE\")"
   ]
  },
  {
   "cell_type": "code",
   "execution_count": 163,
   "id": "0b19e425",
   "metadata": {},
   "outputs": [],
   "source": [
    "graphConn.run(entity_node, \"CREATE\")"
   ]
  },
  {
   "cell_type": "code",
   "execution_count": 164,
   "id": "7599f1e7",
   "metadata": {},
   "outputs": [],
   "source": [
    "graphConn.run(entity_node2, \"CREATE\")"
   ]
  },
  {
   "cell_type": "code",
   "execution_count": 166,
   "id": "d55be281",
   "metadata": {},
   "outputs": [],
   "source": [
    "graphConn.run(file_node, \"LINK\",entity_node, \"FROM\")"
   ]
  },
  {
   "cell_type": "code",
   "execution_count": 167,
   "id": "015fc5a9",
   "metadata": {},
   "outputs": [],
   "source": [
    "graphConn.run(file_node, \"LINK\",entity_node2, \"LIVES\")"
   ]
  },
  {
   "cell_type": "code",
   "execution_count": null,
   "id": "c2259409",
   "metadata": {},
   "outputs": [],
   "source": []
  }
 ],
 "metadata": {
  "kernelspec": {
   "display_name": "Python 3",
   "language": "python",
   "name": "python3"
  },
  "language_info": {
   "codemirror_mode": {
    "name": "ipython",
    "version": 3
   },
   "file_extension": ".py",
   "mimetype": "text/x-python",
   "name": "python",
   "nbconvert_exporter": "python",
   "pygments_lexer": "ipython3",
   "version": "3.8.3"
  }
 },
 "nbformat": 4,
 "nbformat_minor": 5
}
